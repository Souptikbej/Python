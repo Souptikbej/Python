{
  "nbformat": 4,
  "nbformat_minor": 0,
  "metadata": {
    "colab": {
      "provenance": [],
      "authorship_tag": "ABX9TyOQ7FuMn493sB3tNBiKWRtN",
      "include_colab_link": true
    },
    "kernelspec": {
      "name": "python3",
      "display_name": "Python 3"
    },
    "language_info": {
      "name": "python"
    }
  },
  "cells": [
    {
      "cell_type": "markdown",
      "metadata": {
        "id": "view-in-github",
        "colab_type": "text"
      },
      "source": [
        "<a href=\"https://colab.research.google.com/github/Souptikbej/Python/blob/main/Conditionals_%26_Loops_in_Python.ipynb\" target=\"_parent\"><img src=\"https://colab.research.google.com/assets/colab-badge.svg\" alt=\"Open In Colab\"/></a>"
      ]
    },
    {
      "cell_type": "markdown",
      "source": [
        "#Conditionals & Loops in Python"
      ],
      "metadata": {
        "id": "pOt8cuOvPU1o"
      }
    },
    {
      "cell_type": "markdown",
      "source": [
        "#### 1. Conditional Statements"
      ],
      "metadata": {
        "id": "hOH9c7XTPZLu"
      }
    },
    {
      "cell_type": "code",
      "source": [
        "#if, elif, else Structure:\n",
        "\n",
        "num = int(input(\"Enter a number: \"))\n",
        "if num > 0:\n",
        "    print(\"Positive\")\n",
        "elif num == 0:\n",
        "    print(\"Zero\")\n",
        "else:\n",
        "    print(\"Negative\")"
      ],
      "metadata": {
        "colab": {
          "base_uri": "https://localhost:8080/"
        },
        "id": "xB2NxIDjPwlM",
        "outputId": "2fd54b7b-d17f-4a4e-dc52-b041054b5d60"
      },
      "execution_count": 1,
      "outputs": [
        {
          "output_type": "stream",
          "name": "stdout",
          "text": [
            "Enter a number: 10\n",
            "Positive\n"
          ]
        }
      ]
    },
    {
      "cell_type": "markdown",
      "source": [
        "####2. Loops"
      ],
      "metadata": {
        "id": "pKQ64qjzQZLw"
      }
    },
    {
      "cell_type": "code",
      "source": [
        "#for loop:\n",
        "print(\"for loop:\")\n",
        "for i in range(5):\n",
        "    print(i)\n",
        "\n",
        "#while loop:\n",
        "print(\"while loop\")\n",
        "i = 0\n",
        "while i < 5:\n",
        "    print(i)\n",
        "    i += 1\n",
        "\n",
        "#break, continue, pass:\n",
        "print(\"break, continue, pass:\")\n",
        "for i in range(1, 10):\n",
        "    if i == 5:\n",
        "        break  # stops the loop\n",
        "    if i == 3:\n",
        "        continue  # skips 3\n",
        "    print(i)"
      ],
      "metadata": {
        "colab": {
          "base_uri": "https://localhost:8080/"
        },
        "id": "KyeYhsmGQdob",
        "outputId": "b977f914-c883-4f2c-d565-fb830645f8b9"
      },
      "execution_count": 5,
      "outputs": [
        {
          "output_type": "stream",
          "name": "stdout",
          "text": [
            "for loop:\n",
            "0\n",
            "1\n",
            "2\n",
            "3\n",
            "4\n",
            "while loop\n",
            "0\n",
            "1\n",
            "2\n",
            "3\n",
            "4\n",
            "break, continue, pass:\n",
            "1\n",
            "2\n",
            "4\n"
          ]
        }
      ]
    }
  ]
}