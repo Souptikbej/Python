{
  "nbformat": 4,
  "nbformat_minor": 0,
  "metadata": {
    "colab": {
      "provenance": [],
      "authorship_tag": "ABX9TyPLn37bDPRne5W2/QyXDCNu",
      "include_colab_link": true
    },
    "kernelspec": {
      "name": "python3",
      "display_name": "Python 3"
    },
    "language_info": {
      "name": "python"
    }
  },
  "cells": [
    {
      "cell_type": "markdown",
      "metadata": {
        "id": "view-in-github",
        "colab_type": "text"
      },
      "source": [
        "<a href=\"https://colab.research.google.com/github/Souptikbej/Python/blob/main/Declarations.ipynb\" target=\"_parent\"><img src=\"https://colab.research.google.com/assets/colab-badge.svg\" alt=\"Open In Colab\"/></a>"
      ]
    },
    {
      "cell_type": "markdown",
      "source": [
        "# Types of Variable Declarations in Python"
      ],
      "metadata": {
        "id": "_60sjWZICfqT"
      }
    },
    {
      "cell_type": "code",
      "source": [
        "#Most Common  Declaration\n",
        "x = 685            # Integer\n",
        "name = \"Souptik\"   # String\n",
        "pi = 3.14          # Float\n",
        "is_valid = True    # Boolean\n",
        "\n",
        "print(type(x))\n",
        "print(type(name))\n",
        "print(type(pi))\n",
        "print(type(is_valid))"
      ],
      "metadata": {
        "colab": {
          "base_uri": "https://localhost:8080/"
        },
        "id": "vlYvcQv4C1TD",
        "outputId": "0afd500c-6d08-43a6-83e6-fe58eaf7c5bd"
      },
      "execution_count": 15,
      "outputs": [
        {
          "output_type": "stream",
          "name": "stdout",
          "text": [
            "<class 'int'>\n",
            "<class 'str'>\n",
            "<class 'float'>\n",
            "<class 'bool'>\n"
          ]
        }
      ]
    },
    {
      "cell_type": "code",
      "source": [
        "#Multiple Variable Assignment\n",
        "a, b, c = 1, 2, 3\n",
        "print(a)\n",
        "print(b)\n",
        "print(c)\n",
        "x = y = z = 100    # All three variables have the same value\n",
        "print(x)\n",
        "print(y)\n",
        "print(z)"
      ],
      "metadata": {
        "colab": {
          "base_uri": "https://localhost:8080/"
        },
        "id": "uVrOEhX1DPQ8",
        "outputId": "81b3921e-b84a-49bc-db84-af2cc9d07125"
      },
      "execution_count": 11,
      "outputs": [
        {
          "output_type": "stream",
          "name": "stdout",
          "text": [
            "1\n",
            "2\n",
            "3\n",
            "100\n",
            "100\n",
            "100\n"
          ]
        }
      ]
    },
    {
      "cell_type": "code",
      "source": [
        "#Using input() Function\n",
        "name = input(\"Enter your name: \")  # Always str\n",
        "age = int(input(\"Enter your age: \"))  # Converted to int"
      ],
      "metadata": {
        "colab": {
          "base_uri": "https://localhost:8080/"
        },
        "id": "-jl-gPr-DVM8",
        "outputId": "d93100f9-2380-4ab8-bf70-e3a8a5979525"
      },
      "execution_count": 8,
      "outputs": [
        {
          "name": "stdout",
          "output_type": "stream",
          "text": [
            "Enter your name: Souptik\n",
            "Enter your age: 16\n"
          ]
        }
      ]
    },
    {
      "cell_type": "code",
      "source": [
        "#Dynamic Typing\n",
        "x = 10       # int\n",
        "x = \"hello\"  # now x is str\n",
        "print(type(x))\n",
        "print(x)"
      ],
      "metadata": {
        "colab": {
          "base_uri": "https://localhost:8080/"
        },
        "id": "OAMy56UcEZcd",
        "outputId": "70683114-f60b-4e46-e37f-e53731b24c37"
      },
      "execution_count": 7,
      "outputs": [
        {
          "output_type": "stream",
          "name": "stdout",
          "text": [
            "<class 'str'>\n",
            "hello\n"
          ]
        }
      ]
    },
    {
      "cell_type": "code",
      "source": [
        "#Global and Local Variables\n",
        "x = 5  # global variable\n",
        "\n",
        "def test_g():\n",
        "    global x\n",
        "    x = 10  # modifies global x\n",
        "test_g()\n",
        "print(x)\n",
        "\n",
        "\n",
        "x = 5\n",
        "def test_l():\n",
        "    x = 10 #Local Variables\n",
        "test_l()\n",
        "print(x)  # 10"
      ],
      "metadata": {
        "colab": {
          "base_uri": "https://localhost:8080/"
        },
        "id": "H8FhohEQv7TK",
        "outputId": "13bb10a1-ea62-47b4-bafd-ba14afacafdd"
      },
      "execution_count": 3,
      "outputs": [
        {
          "output_type": "stream",
          "name": "stdout",
          "text": [
            "10\n",
            "5\n"
          ]
        }
      ]
    },
    {
      "cell_type": "code",
      "source": [
        "#Containers (List, Tuple, Dict, Set)\n",
        "\n",
        "my_list = [1, 2, 3]\n",
        "my_tuple = (1, 2)\n",
        "my_dict = {\"name\": \"Alice\", \"age\": 25}\n",
        "my_set = {1, 2, 3}\n",
        "\n",
        "print(my_list)\n",
        "print(my_tuple)\n",
        "print(my_dict)\n",
        "print(my_set)"
      ],
      "metadata": {
        "colab": {
          "base_uri": "https://localhost:8080/"
        },
        "id": "86rOeL0B5wel",
        "outputId": "78c4818b-961e-43d4-871a-773865698c18"
      },
      "execution_count": 18,
      "outputs": [
        {
          "output_type": "stream",
          "name": "stdout",
          "text": [
            "[1, 2, 3]\n",
            "(1, 2)\n",
            "{'name': 'Alice', 'age': 25}\n",
            "{1, 2, 3}\n"
          ]
        }
      ]
    }
  ]
}