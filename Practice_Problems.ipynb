{
  "nbformat": 4,
  "nbformat_minor": 0,
  "metadata": {
    "colab": {
      "provenance": [],
      "authorship_tag": "ABX9TyNCwMEb8xJTNynGzFkyDRlp",
      "include_colab_link": true
    },
    "kernelspec": {
      "name": "python3",
      "display_name": "Python 3"
    },
    "language_info": {
      "name": "python"
    }
  },
  "cells": [
    {
      "cell_type": "markdown",
      "metadata": {
        "id": "view-in-github",
        "colab_type": "text"
      },
      "source": [
        "<a href=\"https://colab.research.google.com/github/Souptikbej/Python/blob/main/Practice_Problems.ipynb\" target=\"_parent\"><img src=\"https://colab.research.google.com/assets/colab-badge.svg\" alt=\"Open In Colab\"/></a>"
      ]
    },
    {
      "cell_type": "markdown",
      "source": [
        "#Practice Problems"
      ],
      "metadata": {
        "id": "UBk1dPypPv7G"
      }
    },
    {
      "cell_type": "markdown",
      "source": [
        "####18.Print Fibonacci Series up to n terms"
      ],
      "metadata": {
        "id": "H5JQkBpz4mCy"
      }
    },
    {
      "cell_type": "code",
      "source": [
        "n= int(input(\"Enter number of tearms :\"))\n",
        "a=0\n",
        "b=1\n",
        "for i in range (n):\n",
        "  t=a+b\n",
        "  print(t)\n",
        "  a=b\n",
        "  b=t"
      ],
      "metadata": {
        "colab": {
          "base_uri": "https://localhost:8080/"
        },
        "id": "za7J0bWN4shL",
        "outputId": "aa137d75-e3c6-447a-c679-c41727e23f3c"
      },
      "execution_count": 17,
      "outputs": [
        {
          "output_type": "stream",
          "name": "stdout",
          "text": [
            "Enter number of tearms :10\n",
            "1\n",
            "2\n",
            "3\n",
            "5\n",
            "8\n",
            "13\n",
            "21\n",
            "34\n",
            "55\n",
            "89\n"
          ]
        }
      ]
    },
    {
      "cell_type": "markdown",
      "source": [
        "####17.Check if a number is Prime"
      ],
      "metadata": {
        "id": "DcjWwLO2ydel"
      }
    },
    {
      "cell_type": "code",
      "source": [
        "num = int(input(\"Enter a number: \"))\n",
        "is_prime = True\n",
        "\n",
        "if num <= 1:\n",
        "    is_prime = False\n",
        "else:\n",
        "    for i in range(2, int(num**0.5) + 1):\n",
        "      if num % i == 0:\n",
        "        is_prime = False\n",
        "        break\n",
        "\n",
        "print(\"Prime\" if is_prime else \"Not Prime\")\n"
      ],
      "metadata": {
        "colab": {
          "base_uri": "https://localhost:8080/"
        },
        "id": "RZq61KMVyj28",
        "outputId": "fc03e43c-8299-4c3c-f22a-60ab54d8e832"
      },
      "execution_count": 9,
      "outputs": [
        {
          "output_type": "stream",
          "name": "stdout",
          "text": [
            "Enter a number: 3\n",
            "Prime\n"
          ]
        }
      ]
    },
    {
      "cell_type": "markdown",
      "source": [
        "####16.Create a student result checker:\n",
        "\n",
        "Input: name, marks in 3 subjects\n",
        "\n",
        "Output:\n",
        "\n",
        "Pass if all marks ≥ 40\n",
        "\n",
        "Print total and average\n",
        "\n",
        "If average ≥ 90 and all marks ≥ 90 → print \"Outstanding\"\n",
        "\n",
        "Else if average ≥ 75 → print \"Excellent\"\n",
        "\n",
        "Else if average ≥ 60 → print \"Good\"\n",
        "\n",
        "Else → print \"Needs Improvement\""
      ],
      "metadata": {
        "id": "JSXC1DprJoxb"
      }
    },
    {
      "cell_type": "code",
      "source": [
        "name=input(\"Enter your name :\")\n",
        "a=int(input(\"Enter Subject A Marks: \"))\n",
        "b=int(input(\"Enter Subject B Marks: \"))\n",
        "c=int(input(\"Enter Subject C Marks: \"))\n",
        "total=a+b+c\n",
        "avg=total/3\n",
        "if(a >= 40):\n",
        "  if(b >= 40):\n",
        "    if(c >= 40):\n",
        "      print(f\"Yes , this student has passed in all subjects and your marks is {total} .\")\n",
        "      if avg >= 90  and a >= 90 and b >= 90 and c >= 90 :\n",
        "        print(\"And all subjects get 90 up marks and remarks Outstanding.\")\n",
        "      elif avg >= 75 :\n",
        "        print(\"Remarks Excellent.\")\n",
        "      elif avg >= 60:\n",
        "        print(\"Remarks Good .\")\n",
        "      else:\n",
        "        print(\"Needs Improvement\")\n",
        "else:\n",
        "  print(f\"No , this student has no passed in all subjects and your marks is {total}.\")\n"
      ],
      "metadata": {
        "colab": {
          "base_uri": "https://localhost:8080/"
        },
        "id": "5z_HwaVtJxSW",
        "outputId": "1a73d5b5-fc5d-4723-dde6-11c386369698"
      },
      "execution_count": 4,
      "outputs": [
        {
          "output_type": "stream",
          "name": "stdout",
          "text": [
            "Enter your name :ayan\n",
            "Enter Subject A Marks: 30\n",
            "Enter Subject B Marks: 60\n",
            "Enter Subject C Marks: 50\n",
            "No , this student has no passed in all subjects and your marks is 140.\n"
          ]
        }
      ]
    },
    {
      "cell_type": "markdown",
      "source": [
        "####15.Create a calculator that performs operation based on user input:\n",
        "\n",
        "Takes two numbers\n",
        "\n",
        "Takes operator as input: +, -, *, /, **, %\n",
        "\n",
        "Use if...elif...else and appropriate operator to calculate"
      ],
      "metadata": {
        "id": "wwmFwX8NDgTq"
      }
    },
    {
      "cell_type": "code",
      "source": [
        "a=int(input(\"Enter your first number :\"))\n",
        "b=int(input(\"Enter your second number :\"))\n",
        "print(\"[+ , - , / , * , % , **] \")\n",
        "opr=input(\"Choose What opration can do :\")\n",
        "\n",
        "if opr == '+':\n",
        "  ans=a+b\n",
        "elif opr == '-':\n",
        "  ans=a-b\n",
        "elif opr == '*':\n",
        "  ans=a*b\n",
        "elif opr == '**':\n",
        "  ans=a ** b\n",
        "elif opr == '/':\n",
        "  if b != 0:\n",
        "        ans = a / b\n",
        "  else:\n",
        "        print(\"Error: Division by zero!\")\n",
        "        ans = None\n",
        "elif opr == '%':\n",
        "  if b != 0:\n",
        "        ans = a % b\n",
        "  else:\n",
        "        print(\"Error: Modulus by zero!\")\n",
        "        ans = None\n",
        "else:\n",
        "    print(f\"Invalid operator: {opr}\")\n",
        "    ans = None\n",
        "\n",
        "if ans is not None:\n",
        "    print(f\"{a} {opr} {b} = {ans}\")"
      ],
      "metadata": {
        "colab": {
          "base_uri": "https://localhost:8080/"
        },
        "id": "tQ6hTLDADqyd",
        "outputId": "878d4ad7-dac4-44f3-9ab8-dbe6beb6aaf3"
      },
      "execution_count": 35,
      "outputs": [
        {
          "output_type": "stream",
          "name": "stdout",
          "text": [
            "Enter your first number :10\n",
            "Enter your second number :0\n",
            "+ , - , / , * , % , ** \n",
            "Choose What opration can do ? :/\n",
            "Error: Division by zero!\n"
          ]
        }
      ]
    },
    {
      "cell_type": "markdown",
      "source": [
        "####14.Write a program to:\n",
        "\n",
        "Take a number as input\n",
        "\n",
        "Print its negative using unary -\n",
        "\n",
        "Use not operator to flip a boolean value True → False, False → True"
      ],
      "metadata": {
        "id": "Kp5p-OpyCeDx"
      }
    },
    {
      "cell_type": "code",
      "source": [
        "# Part 1: Take a number and print its negative\n",
        "num = int(input(\"Enter a number: \"))\n",
        "negative_num = -num\n",
        "print(\"Negative of the number is:\", negative_num)\n",
        "\n",
        "# Part 2: Use 'not' to flip a boolean value\n",
        "value = input(\"Enter a boolean value (True/False): \")\n",
        "\n",
        "# Convert string input to boolean\n",
        "if value.lower() == 'true':\n",
        "    bool_value = True\n",
        "elif value.lower() == 'false':\n",
        "    bool_value = False\n",
        "else:\n",
        "    print(\"Invalid boolean input!\")\n",
        "    exit()\n",
        "\n",
        "flipped_value = not bool_value\n",
        "print(\"Flipped Boolean Value using 'not':\", flipped_value)"
      ],
      "metadata": {
        "colab": {
          "base_uri": "https://localhost:8080/"
        },
        "id": "CuliNh-qClMB",
        "outputId": "f29a9056-08d9-4467-f23e-8a0cfb0ecca0"
      },
      "execution_count": 30,
      "outputs": [
        {
          "output_type": "stream",
          "name": "stdout",
          "text": [
            "Enter a number: 10\n",
            "Negative of the number is: -10\n",
            "Enter a boolean value (True/False): true\n",
            "Flipped Boolean Value using 'not': False\n"
          ]
        }
      ]
    },
    {
      "cell_type": "markdown",
      "source": [
        "####13.Create a list x and assign y = x. Check x is y before and after changing one element of y."
      ],
      "metadata": {
        "id": "hic1JJLVAd1K"
      }
    },
    {
      "cell_type": "code",
      "source": [
        "x=[1,2,3,4,5]\n",
        "y=x\n",
        "print(\"After changing one element of y. \")\n",
        "print( \" X is Y :\",x is y)\n",
        "y[1]=6\n",
        "print(\"Before changing one element of y. \")\n",
        "print( \" X is Y :\",x is y)\n",
        "\n",
        "print(\"\\nAfter modifying y[1] = 6\")\n",
        "print(\"X=\",x)\n",
        "print(\"Y=\",y)\n",
        "\n",
        "# when y[1] is modified, the change is reflected in x as well."
      ],
      "metadata": {
        "colab": {
          "base_uri": "https://localhost:8080/"
        },
        "id": "x-SJy_EXAkD6",
        "outputId": "db2d2e35-88ec-4f42-848c-164526b3257e"
      },
      "execution_count": 29,
      "outputs": [
        {
          "output_type": "stream",
          "name": "stdout",
          "text": [
            "After changing one element of y. \n",
            " X is Y : True\n",
            "Before changing one element of y. \n",
            " X is Y : True\n",
            "\n",
            "After modifying y[1] = 6\n",
            "X= [1, 6, 3, 4, 5]\n",
            "Y= [1, 6, 3, 4, 5]\n"
          ]
        }
      ]
    },
    {
      "cell_type": "markdown",
      "source": [
        "####12.Create two lists a = [1, 2, 3] and b = [1, 2, 3]. Check:\n",
        "\n",
        "a == b\n",
        "\n",
        "a is b\n",
        "\n",
        "Explain the difference between == and is in output."
      ],
      "metadata": {
        "id": "W4P0Kyr__Z4i"
      }
    },
    {
      "cell_type": "code",
      "source": [
        "a = [1, 2, 3]\n",
        "b = [1, 2, 3]\n",
        "\n",
        "print(\"a == b:\", a == b)   # Value equality\n",
        "print(\"a is b:\", a is b)   # Identity check\n",
        "\n",
        "#Operator\tMeaning\tResult\n",
        "\n",
        "#==\tCompares values (contents)\tTrue\n",
        "#is\tCompares memory location / identity\tFalse\n",
        "\n",
        "#a == b is True because both lists contain the same values: [1, 2, 3]\n",
        "\n",
        "#a is b is False because a and b are different objects in memory, even though their contents are the same."
      ],
      "metadata": {
        "colab": {
          "base_uri": "https://localhost:8080/"
        },
        "id": "nzQ1s4CJ_m3Z",
        "outputId": "28c09325-9e7c-4beb-b008-84eb18ca9b82"
      },
      "execution_count": 25,
      "outputs": [
        {
          "output_type": "stream",
          "name": "stdout",
          "text": [
            "a == b: True\n",
            "a is b: False\n"
          ]
        }
      ]
    },
    {
      "cell_type": "markdown",
      "source": [
        "####11.Ask the user to enter a sentence and check if it contains the word \"AI\" or \"machine\"."
      ],
      "metadata": {
        "id": "Fivtde1_8-SA"
      }
    },
    {
      "cell_type": "code",
      "source": [
        "sen=input(\"Enter a sentance :\").lower()\n",
        "\n",
        "if \"ai\" in sen  or \"machine\" in sen:\n",
        "  print (\"yes , The sentence contains  the word 'AI' or 'machine' .\")\n",
        "else :\n",
        "  print(\"No , The sentence does NOT contain 'AI' or 'machine' .\")"
      ],
      "metadata": {
        "colab": {
          "base_uri": "https://localhost:8080/"
        },
        "id": "aFSfADvq9GCA",
        "outputId": "b3d0aca5-2b99-4017-d239-659e8994da93"
      },
      "execution_count": 24,
      "outputs": [
        {
          "output_type": "stream",
          "name": "stdout",
          "text": [
            "Enter a sentance :I love studying AI and Machine Learning.\n",
            "yes , The sentence contains  the word 'AI' or 'machine' .\n"
          ]
        }
      ]
    },
    {
      "cell_type": "markdown",
      "source": [
        "####10.Write a program that checks if a user-given word is present in the following list:\n",
        "[\"python\", \"java\", \"c++\", \"ruby\"]"
      ],
      "metadata": {
        "id": "Sak8oOOa7Ii3"
      }
    },
    {
      "cell_type": "code",
      "source": [
        "lan_list=[\"python\", \"java\", \"c++\", \"ruby\"]\n",
        "a=input(\"Enter name of programming language :\").lower()\n",
        "\n",
        "if a in lan_list:\n",
        "  print(\"Already it is your list .\")\n",
        "else:\n",
        "  print(\"It is Not your list\")"
      ],
      "metadata": {
        "colab": {
          "base_uri": "https://localhost:8080/"
        },
        "id": "-aSpGBQH7Tid",
        "outputId": "ab137eda-3b9d-4924-e054-2e344561e0bb"
      },
      "execution_count": 20,
      "outputs": [
        {
          "output_type": "stream",
          "name": "stdout",
          "text": [
            "Enter name of programming language :c++\n",
            "Already it is your list .\n"
          ]
        }
      ]
    },
    {
      "cell_type": "markdown",
      "source": [
        "####9.Write a program that toggles a bit using bitwise XOR:\n",
        "\n",
        "Input a number and a bit position (0-indexed)\n",
        "\n",
        "Toggle the bit at that position"
      ],
      "metadata": {
        "id": "rFyxxnLE5-uc"
      }
    },
    {
      "cell_type": "code",
      "source": [
        "# Input number and position\n",
        "n = int(input(\"Enter a number: \"))\n",
        "p = int(input(\"Enter the bit position to toggle (0-indexed): \"))\n",
        "\n",
        "# Display original binary\n",
        "print(\"Original number:\", n)\n",
        "print(\"Binary before toggle:\", bin(n))\n",
        "\n",
        "# Toggle bit at position p\n",
        "result = n ^ (1 << p)\n",
        "\n",
        "# Display result\n",
        "print(\"Binary after toggle:\", bin(result))\n",
        "print(\"New number:\", result)\n"
      ],
      "metadata": {
        "colab": {
          "base_uri": "https://localhost:8080/"
        },
        "id": "WE2ablhU6E0B",
        "outputId": "a0cbc22e-22dd-4333-af4e-ddb6e952b0da"
      },
      "execution_count": 16,
      "outputs": [
        {
          "output_type": "stream",
          "name": "stdout",
          "text": [
            "Enter a number: 20\n",
            "Enter the bit position to toggle (0-indexed): 3\n",
            "Original number: 20\n",
            "Binary before toggle: 0b10100\n",
            "Binary after toggle: 0b11100\n",
            "New number: 28\n"
          ]
        }
      ]
    },
    {
      "cell_type": "markdown",
      "source": [
        "####8.Take two integers and perform:\n",
        "\n",
        "Bitwise AND\n",
        "\n",
        "Bitwise OR\n",
        "\n",
        "Bitwise XOR\n",
        "\n",
        "Left Shift by 2\n",
        "\n",
        "Right Shift by 1"
      ],
      "metadata": {
        "id": "9X9-FtXm5Auh"
      }
    },
    {
      "cell_type": "code",
      "source": [
        "# Input from the user\n",
        "a = int(input(\"Enter first integer: \"))\n",
        "b = int(input(\"Enter second integer: \"))\n",
        "\n",
        "# Bitwise AND\n",
        "print(\"Bitwise AND (a & b):\", a & b)\n",
        "\n",
        "# Bitwise OR\n",
        "print(\"Bitwise OR (a | b):\", a | b)\n",
        "\n",
        "# Bitwise XOR\n",
        "print(\"Bitwise XOR (a ^ b):\", a ^ b)\n",
        "\n",
        "# Left Shift\n",
        "print(\"Left Shift a by 2 (a << 2):\", a << 2)\n",
        "\n",
        "# Right Shift b by 1\n",
        "print(\"Right Shift b by 1 (b >> 1):\", b >> 1)"
      ],
      "metadata": {
        "colab": {
          "base_uri": "https://localhost:8080/"
        },
        "id": "g1IXlYVy5ICq",
        "outputId": "90d2c7a3-8671-49f0-ba4b-f688fbabec07"
      },
      "execution_count": 15,
      "outputs": [
        {
          "output_type": "stream",
          "name": "stdout",
          "text": [
            "Enter first integer: 10\n",
            "Enter second integer: 10\n",
            "Bitwise AND (a & b): 10\n",
            "Bitwise OR (a | b): 10\n",
            "Bitwise XOR (a ^ b): 0\n",
            "Left Shift a by 2 (a << 2): 40\n",
            "Right Shift b by 1 (b >> 1): 5\n"
          ]
        }
      ]
    },
    {
      "cell_type": "markdown",
      "source": [
        "####7.Initialize a variable num = 10. Use compound assignment operators to:\n",
        "\n",
        "Add 5\n",
        "\n",
        "Multiply by 2\n",
        "\n",
        "Subtract 3\n",
        "\n",
        "Divide by 4\n",
        "Print value after each step."
      ],
      "metadata": {
        "id": "hE1ejmZs33Zj"
      }
    },
    {
      "cell_type": "code",
      "source": [
        "num = 10\n",
        "\n",
        "num+=5\n",
        "print(num)\n",
        "num*=10\n",
        "print(num)\n",
        "num-=3\n",
        "print(num)\n",
        "num/=4\n",
        "print(num)"
      ],
      "metadata": {
        "colab": {
          "base_uri": "https://localhost:8080/"
        },
        "id": "NxCDQI3H4DQU",
        "outputId": "d90c3940-9a71-4fd3-aa50-4db4e8ab0f37"
      },
      "execution_count": 13,
      "outputs": [
        {
          "output_type": "stream",
          "name": "stdout",
          "text": [
            "15\n",
            "150\n",
            "147\n",
            "36.75\n"
          ]
        }
      ]
    },
    {
      "cell_type": "markdown",
      "source": [
        "####6.Write a program to check if a number is between 10 and 50 or divisible by 7."
      ],
      "metadata": {
        "id": "BqpUK1GWfsIE"
      }
    },
    {
      "cell_type": "code",
      "source": [
        "x=int(input(\"Enter a number :\"))\n",
        "if (x >= 10 and x <= 50) or (x %  7== 0):\n",
        "  print(\"The number is either between 10 and 50 or divisible by 7.\")\n",
        "else:\n",
        "    print(\"The number does not satisfy the condition.\")"
      ],
      "metadata": {
        "colab": {
          "base_uri": "https://localhost:8080/"
        },
        "id": "AgydPc1IfzKA",
        "outputId": "71ad91f3-9d35-49c6-a738-d3f0a03f03ac"
      },
      "execution_count": 10,
      "outputs": [
        {
          "output_type": "stream",
          "name": "stdout",
          "text": [
            "Enter a number :80\n",
            "The number does not satisfy the condition.\n"
          ]
        }
      ]
    },
    {
      "cell_type": "markdown",
      "source": [
        "####5. Given username and password, write a program that allows login only if:\n",
        "\n",
        "Username is \"admin\"\n",
        "\n",
        "Password is \"1234\"\n",
        "\n",
        "Use and operator to validate both conditions."
      ],
      "metadata": {
        "id": "pJ0LAYk_dZ2j"
      }
    },
    {
      "cell_type": "code",
      "source": [
        "username=input(\"Enter username :\")\n",
        "password=int(input(\"Enter Password :\"))\n",
        "\n",
        "if username=='admin' and password==1234 :\n",
        "  print(\"Welcome , You successfully Loged in \")\n",
        "else:\n",
        "  print(\"Sorry ,your username and password is wrong !\")"
      ],
      "metadata": {
        "colab": {
          "base_uri": "https://localhost:8080/"
        },
        "id": "t7WgIknHdt81",
        "outputId": "6666c59f-e4fa-46c9-a724-cec28b818890"
      },
      "execution_count": 7,
      "outputs": [
        {
          "output_type": "stream",
          "name": "stdout",
          "text": [
            "Enter username :admin\n",
            "Enter Password :1234\n",
            "Welcome , You successfully Loged in \n"
          ]
        }
      ]
    },
    {
      "cell_type": "markdown",
      "source": [
        "####4.Write a program to take 3 subject marks and check whether the student has passed in all subjects (pass mark ≥ 40)."
      ],
      "metadata": {
        "id": "Q3xEBcYdV1MG"
      }
    },
    {
      "cell_type": "code",
      "source": [
        "a=int(input(\"Enter Subject A Marks: \"))\n",
        "b=int(input(\"Enter Subject B Marks: \"))\n",
        "c=int(input(\"Enter Subject C Marks: \"))\n",
        "\n",
        "if(a >= 40):\n",
        "  if(b >= 40):\n",
        "    if(c >= 40):\n",
        "      print(\"Yes , this student has passed in all subjects .\")\n",
        "else:\n",
        "  print(\"No , this student has no passed in all subjects .\")"
      ],
      "metadata": {
        "colab": {
          "base_uri": "https://localhost:8080/"
        },
        "id": "25osJX3iWIci",
        "outputId": "6fe88f25-72d3-44e6-906d-cbfcf8a6cd79"
      },
      "execution_count": 5,
      "outputs": [
        {
          "output_type": "stream",
          "name": "stdout",
          "text": [
            "Enter Subject A Marks: 40\n",
            "Enter Subject B Marks: 40\n",
            "Enter Subject C Marks: 40\n",
            "Yes , this student has passed in all subjects .\n"
          ]
        }
      ]
    },
    {
      "cell_type": "markdown",
      "source": [
        "#### 3. Take two inputs from the user: age of person A and B. Compare and display:\n",
        "#### Who is older?\n",
        "#### Are they of the same age?"
      ],
      "metadata": {
        "id": "9FVWWgE2Stwq"
      }
    },
    {
      "cell_type": "code",
      "source": [
        "a=int(input(\"Enter Person A Age: \"))\n",
        "b=int(input(\"Enter Person B Age: \"))\n",
        "\n",
        "if(a==b):\n",
        "  print(\"They are of the same age \")\n",
        "elif(a>b):\n",
        "  print(\"Person A is Older \")\n",
        "else:\n",
        "  print(\"Person B is Older \")"
      ],
      "metadata": {
        "colab": {
          "base_uri": "https://localhost:8080/"
        },
        "id": "pu8lVLmaUdlM",
        "outputId": "ae438ecc-f53f-4b9c-ec04-aa149afa7129"
      },
      "execution_count": 2,
      "outputs": [
        {
          "output_type": "stream",
          "name": "stdout",
          "text": [
            "Enter Person A Age: 20\n",
            "Enter Person B Age: 20\n",
            "They are of the same age \n"
          ]
        }
      ]
    },
    {
      "cell_type": "markdown",
      "source": [
        "####2. Swap Two Numbers Without Temp Variable"
      ],
      "metadata": {
        "id": "EYxTv7lAQwJ3"
      }
    },
    {
      "cell_type": "code",
      "source": [
        "x=int(input(\"Enter first number :\"))\n",
        "y=int(input(\"Enter second number :\"))\n",
        "print(\"Befor Swapping X:\",x,\" And Y:\",y)\n",
        "x=x+y\n",
        "y=x-y\n",
        "x=x-y\n",
        "print(\"After Swapping X:\",x,\" And Y:\",y)"
      ],
      "metadata": {
        "colab": {
          "base_uri": "https://localhost:8080/"
        },
        "id": "v2OSnViqQ_Zl",
        "outputId": "7d702b5f-c53a-434d-a66b-261430a43697"
      },
      "execution_count": 4,
      "outputs": [
        {
          "output_type": "stream",
          "name": "stdout",
          "text": [
            "Enter first number :2\n",
            "Enter second number :4\n",
            "Befor Swapping X: 2  And Y: 4\n",
            "After Swapping X: 4  And Y: 2\n"
          ]
        }
      ]
    },
    {
      "cell_type": "markdown",
      "source": [
        "####1. Add Two Numbers"
      ],
      "metadata": {
        "id": "x1ZVNc6JP_QH"
      }
    },
    {
      "cell_type": "code",
      "source": [
        "x=int(input(\"Enter first number :\"))\n",
        "y=int(input(\"Enter second number :\"))\n",
        "z=x+y\n",
        "print(\"Answer of Adding two number is :\",z)"
      ],
      "metadata": {
        "colab": {
          "base_uri": "https://localhost:8080/"
        },
        "id": "21ARFfkBQNdW",
        "outputId": "9e4872a6-c784-4cfa-cde4-c68152e8c0be"
      },
      "execution_count": 1,
      "outputs": [
        {
          "output_type": "stream",
          "name": "stdout",
          "text": [
            "Enter first number :10\n",
            "Enter second number :20\n",
            "Answer of Adding two number is : 30\n"
          ]
        }
      ]
    }
  ]
}