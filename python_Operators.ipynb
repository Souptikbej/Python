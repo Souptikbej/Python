{
  "nbformat": 4,
  "nbformat_minor": 0,
  "metadata": {
    "colab": {
      "provenance": [],
      "authorship_tag": "ABX9TyPzbnsARcZb/gvxESwFo3t3",
      "include_colab_link": true
    },
    "kernelspec": {
      "name": "python3",
      "display_name": "Python 3"
    },
    "language_info": {
      "name": "python"
    }
  },
  "cells": [
    {
      "cell_type": "markdown",
      "metadata": {
        "id": "view-in-github",
        "colab_type": "text"
      },
      "source": [
        "<a href=\"https://colab.research.google.com/github/Souptikbej/Python/blob/main/python_Operators.ipynb\" target=\"_parent\"><img src=\"https://colab.research.google.com/assets/colab-badge.svg\" alt=\"Open In Colab\"/></a>"
      ]
    },
    {
      "cell_type": "markdown",
      "source": [
        "# Operators"
      ],
      "metadata": {
        "id": "TV0DkfAmF3Qm"
      }
    },
    {
      "cell_type": "code",
      "execution_count": 8,
      "metadata": {
        "colab": {
          "base_uri": "https://localhost:8080/"
        },
        "id": "heY7ZrOfFxe5",
        "outputId": "960fc1b3-83d3-4fe4-9dfc-009254e3fbb2"
      },
      "outputs": [
        {
          "output_type": "stream",
          "name": "stdout",
          "text": [
            "15\n",
            "5\n",
            "50\n",
            "2.0\n",
            "0\n",
            "25\n",
            "2\n"
          ]
        }
      ],
      "source": [
        "#Arithmetic\n",
        "a=10\n",
        "b=5\n",
        "\n",
        "c=a+b #addtion\n",
        "print(c)\n",
        "\n",
        "c=a-b #subtraction\n",
        "print(c)\n",
        "\n",
        "c=a*b #multipication\n",
        "print(c)\n",
        "\n",
        "c=a/b #division\n",
        "print(c)\n",
        "\n",
        "c=a%b #modulus\n",
        "print(c)\n",
        "\n",
        "a=5\n",
        "b=2\n",
        "c= a ** b #Exponentiation\n",
        "print(c)\n",
        "\n",
        "c= a // b #Floor Division\n",
        "print(c)"
      ]
    },
    {
      "cell_type": "code",
      "source": [
        "#Relational\n",
        "#\t==, !=, <, >, <=, >=\n",
        "#Compare two values and return True or False\n",
        "\n",
        "a = 10\n",
        "b = 20\n",
        "print(a < b)\n",
        "print(a > b)\n",
        "print(a == b)\n",
        "print(a != b)\n",
        "print(a <= b)\n",
        "print(a >= b)"
      ],
      "metadata": {
        "colab": {
          "base_uri": "https://localhost:8080/"
        },
        "id": "_3NeJRUgKylx",
        "outputId": "5e433fd0-33d1-4146-f126-c53e81c9a478"
      },
      "execution_count": 11,
      "outputs": [
        {
          "output_type": "stream",
          "name": "stdout",
          "text": [
            "True\n",
            "False\n",
            "False\n",
            "True\n",
            "True\n",
            "False\n"
          ]
        }
      ]
    },
    {
      "cell_type": "code",
      "source": [
        "#Logical\n",
        "#and, or, not\n",
        "#Combine boolean expressions\n",
        "#Logic Gate Truth Table Answer\n",
        "\n",
        "x = True\n",
        "y = False\n",
        "print(x and y)\n",
        "print(x or y)\n",
        "print(not x)"
      ],
      "metadata": {
        "colab": {
          "base_uri": "https://localhost:8080/"
        },
        "id": "5spz2qeiLayF",
        "outputId": "7e5a948b-1180-4ec4-84dd-e246e58a439a"
      },
      "execution_count": 12,
      "outputs": [
        {
          "output_type": "stream",
          "name": "stdout",
          "text": [
            "False\n",
            "True\n",
            "False\n"
          ]
        }
      ]
    },
    {
      "cell_type": "code",
      "source": [
        "#Assignment\n",
        "#=, +=, -=, *=, /=, %=, //=, **=\n",
        "#Assign and update values in a variable\n",
        "\n",
        "x = 5\n",
        "x += 5 # x = x + 5 → 10\n",
        "print(x)\n",
        "x *= 2 #x = x * 2 → 20\n",
        "print(x)"
      ],
      "metadata": {
        "colab": {
          "base_uri": "https://localhost:8080/"
        },
        "id": "BXbtjB38MngF",
        "outputId": "3c26833a-4552-4147-9cef-c81bfd6be7c9"
      },
      "execution_count": 17,
      "outputs": [
        {
          "output_type": "stream",
          "name": "stdout",
          "text": [
            "10\n",
            "20\n"
          ]
        }
      ]
    },
    {
      "cell_type": "code",
      "source": [
        "#Bitwise\n",
        "\n",
        "a = 5       # 0101\n",
        "b = 3       # 0011\n",
        "print(a & b)  # 1\n",
        "print(a | b)  # 7\n"
      ],
      "metadata": {
        "id": "lD-bfIk8NtqO"
      },
      "execution_count": null,
      "outputs": []
    },
    {
      "cell_type": "code",
      "source": [
        "#Membership\n",
        "#in, not in\n",
        "#Check if a value exists in a sequence (e.g., list, string)\n",
        "\n",
        "fruits = [\"apple\", \"banana\"]\n",
        "print(\"apple\" in fruits)\n",
        "print(\"cherry\" not in fruits)"
      ],
      "metadata": {
        "colab": {
          "base_uri": "https://localhost:8080/"
        },
        "id": "8HIl2MS6OkOn",
        "outputId": "47dd1ebf-1ff2-46bb-f469-2389d946fffb"
      },
      "execution_count": 18,
      "outputs": [
        {
          "output_type": "stream",
          "name": "stdout",
          "text": [
            "True\n",
            "True\n"
          ]
        }
      ]
    },
    {
      "cell_type": "code",
      "source": [
        "#Identity\n",
        "#is, is not\n",
        "#Check if two variables refer to the same object\n",
        "\n",
        "x = [1, 2]\n",
        "y = x\n",
        "z = [1, 2]\n",
        "print(x is y)\n",
        "print(x is z)"
      ],
      "metadata": {
        "colab": {
          "base_uri": "https://localhost:8080/"
        },
        "id": "E1dr30fIOvkB",
        "outputId": "4ad88d57-015c-4a35-dcb0-7e5e2049e699"
      },
      "execution_count": 19,
      "outputs": [
        {
          "output_type": "stream",
          "name": "stdout",
          "text": [
            "True\n",
            "False\n"
          ]
        }
      ]
    }
  ]
}